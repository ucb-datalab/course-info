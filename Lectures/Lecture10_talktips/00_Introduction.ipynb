{
 "cells": [
  {
   "cell_type": "code",
   "execution_count": 1,
   "metadata": {},
   "outputs": [
    {
     "data": {
      "text/html": [
       "<style>\n",
       "\n",
       ".rendered_html\n",
       "{\n",
       "  color: #2C5494;\n",
       "  font-family: Ubuntu;\n",
       "  font-size: 140%;\n",
       "  line-height: 1.1;\n",
       "  margin: 0.5em 0;\n",
       "  }\n",
       "\n",
       ".talk_title\n",
       "{\n",
       "  color: #498AF3;\n",
       "  font-size: 250%;\n",
       "  font-weight:bold;\n",
       "  line-height: 1.2; \n",
       "  margin: 10px 50px 10px;\n",
       "  }\n",
       "\n",
       ".subtitle\n",
       "{\n",
       "  color: #386BBC;\n",
       "  font-size: 180%;\n",
       "  font-weight:bold;\n",
       "  line-height: 1.2; \n",
       "  margin: 20px 50px 20px;\n",
       "  }\n",
       "\n",
       ".slide-header, p.slide-header\n",
       "{\n",
       "  color: #498AF3;\n",
       "  font-size: 200%;\n",
       "  font-weight:bold;\n",
       "  margin: 0px 20px 10px;\n",
       "  page-break-before: always;\n",
       "  text-align: center;\n",
       "  }\n",
       "\n",
       ".rendered_html h1\n",
       "{\n",
       "  color: #498AF3;\n",
       "  line-height: 1.2; \n",
       "  margin: 0.15em 0em 0.5em;\n",
       "  page-break-before: always;\n",
       "  text-align: center;\n",
       "  }\n",
       "\n",
       "\n",
       ".rendered_html h2\n",
       "{ \n",
       "  color: #386BBC;\n",
       "  line-height: 1.2;\n",
       "  margin: 1.1em 0em 0.5em;\n",
       "  }\n",
       "\n",
       ".rendered_html h3\n",
       "{ \n",
       "  font-size: 100%;\n",
       "  line-height: 1.2;\n",
       "  margin: 1.1em 0em 0.5em;\n",
       "  }\n",
       "\n",
       ".rendered_html li\n",
       "{\n",
       "  line-height: 1.8;\n",
       "  }\n",
       "\n",
       ".input_prompt, .CodeMirror-lines, .output_area\n",
       "{\n",
       "  font-family: Consolas;\n",
       "  font-size: 120%;\n",
       "  }\n",
       "\n",
       ".gap-above\n",
       "{\n",
       "  padding-top: 200px;\n",
       "  }\n",
       "\n",
       ".gap01\n",
       "{\n",
       "  padding-top: 10px;\n",
       "  }\n",
       "\n",
       ".gap05\n",
       "{\n",
       "  padding-top: 50px;\n",
       "  }\n",
       "\n",
       ".gap1\n",
       "{\n",
       "  padding-top: 100px;\n",
       "  }\n",
       "\n",
       ".gap2\n",
       "{\n",
       "  padding-top: 200px;\n",
       "  }\n",
       "\n",
       ".gap3\n",
       "{\n",
       "  padding-top: 300px;\n",
       "  }\n",
       "\n",
       ".emph\n",
       "{\n",
       "  color: #386BBC;\n",
       "  }\n",
       "\n",
       ".warn\n",
       "{\n",
       "  color: red;\n",
       "  }\n",
       "\n",
       ".center\n",
       "{\n",
       "  text-align: center;\n",
       "  }\n",
       "\n",
       ".nb_link\n",
       "{\n",
       "    padding-bottom: 0.5em;\n",
       "}\n",
       "\n",
       "</style>"
      ],
      "text/plain": [
       "<IPython.core.display.HTML object>"
      ]
     },
     "metadata": {},
     "output_type": "display_data"
    }
   ],
   "source": [
    "%run ../talktools.py"
   ]
  },
  {
   "cell_type": "markdown",
   "metadata": {},
   "source": [
    "# Meeting/Lecture 10 - April 22, 2019\n",
    "\n",
    "## Agenda for today\n",
    "   \n",
    "* Logistics for Final Presentation\n",
    "\n",
    "* Intro to Giving a Scientific Talk\n",
    "\n",
    "* Example Scientific Talk\n",
    "\n",
    "* Final Project: Work and Check in time"
   ]
  },
  {
   "cell_type": "markdown",
   "metadata": {},
   "source": [
    "## American Astronomical Society (AAS) Meetings\n",
    "[AAS meetings page](https://aas.org/meetings/meeting-services)\n",
    "* Twice a year: summer and winter\n",
    "* June 2019: St. Louis, January 2020: Hawaii\n",
    "* 1 week long\n",
    "* Big meeting is the winter ~2000-3000 people\n",
    "* Chance to give/see many talks, prizes award, plenary talks, disertation talks, networking, job interviews/talks/recruitment, team meetings, catching up with people, etc.\n",
    "* [Chambliss award](https://aas.org/grants-and-prizes/chambliss-astronomy-achievement-student-awards) for outstanding poster by an undergraduate (or early career graduate)"
   ]
  },
  {
   "cell_type": "markdown",
   "metadata": {},
   "source": [
    "## Normal AAS-style talk overview\n",
    "* Many people there = short talks\n",
    "* Usually 5 min talk + 2 min question (\"5+2\")\n",
    "* Talks organized by scientific topic\n",
    "* Many \"parallel sessions\" -- talks running at the same time in different rooms\n",
    "* People move from room-to-room often, sometimes stay for only one talk\n",
    "* Imperitive to get your point across quickly, and efficiently"
   ]
  },
  {
   "cell_type": "markdown",
   "metadata": {},
   "source": [
    "## Normal AAS-style talks logistics\n",
    "* Must use AAS computers and software (keynote, powerpoint, pdf)\n",
    "* Have to upload in advance\n",
    "* Your talk is not guaranteed to work on their machines\n",
    "* Can test in advance in their A/V room\n",
    "* Talk order (title + abstract) published well in advance\n",
    "* Usually 5-10 people speak per session\n",
    "* Session chair will time your talk and give you a 1 min warning\n",
    "* Chair will solicit questions from the audience after your talk\n",
    "* Often more questions than time, so people will find you after your talk"
   ]
  },
  {
   "cell_type": "markdown",
   "metadata": {},
   "source": [
    "## Final presentation for class\n",
    "* AAS-style talk: 5+2\n",
    "* Dan, Josh, and Kareem will chair 3 sessions __during lecture on 4/29__\n",
    "* Attendance and participation (talks and asking questions) is mandatory\n",
    "* There is no make up final\n",
    "* Talk titles are due via Piazza by __4pm on Friday 4/26__\n",
    "* Talk order will be posted on Piazza Friday night\n",
    "* Talk will be graded by effectiveness of presentation (e.g., did you get your point across, stay on time, clear plots, motivate the science, answer questions)"
   ]
  },
  {
   "cell_type": "markdown",
   "metadata": {},
   "source": [
    "## Final project notebooks\n",
    "* Due to use via Piazza by __4pm on Friday 5/3__\n",
    "* Notebooks should have \"preamble\" that (1) states the science motivation (~1 paragraph), (2) states the original goals (~1 paragraph), (3) states any descope of the original goal you did and why (~1 paragraph).\n",
    "* As with labs, notebooks should be easy to follow\n",
    "* Notebooks should be single files of reasonable size (e.g., we don't need to download all your huge data files)."
   ]
  }
 ],
 "metadata": {
  "kernelspec": {
   "display_name": "Python 3",
   "language": "python",
   "name": "python3"
  },
  "language_info": {
   "codemirror_mode": {
    "name": "ipython",
    "version": 3
   },
   "file_extension": ".py",
   "mimetype": "text/x-python",
   "name": "python",
   "nbconvert_exporter": "python",
   "pygments_lexer": "ipython3",
   "version": "3.6.3"
  }
 },
 "nbformat": 4,
 "nbformat_minor": 2
}
