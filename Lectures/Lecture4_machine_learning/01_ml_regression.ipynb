{
 "cells": [
  {
   "cell_type": "code",
   "execution_count": null,
   "metadata": {},
   "outputs": [],
   "source": [
    "%run ../talktools.py"
   ]
  },
  {
   "cell_type": "markdown",
   "metadata": {},
   "source": [
    "## ML Regression \n",
    "\n",
    "You've already seen how to fit $y$ from $\\vec x$ when we did Bayesian inference. Now we'll this with different machine learning techniques.\n",
    "\n",
    "First, let's get some astro data. Say we want to query SDSS for redshifts, and want to build our own predictor of redshift based on photometry. \n",
    "\n",
    "[__Astrophysical aside__: As a reminder, for galaxies, photometric redshifts are based on fitting multi-band photometry of a source, whereas spectroscopic redshifts are measured from lines (usually emission) in the spectra.  \"Photo-z\" measurments are generally less precise than spectroscopic redshifts.  They are often based on broadband photometry and may be affected by dust, stellar populations, metallicity, etc. as well as the object's redshift.  In comparison, spectroscopic redshifts can be precise to several decimal places.]\n",
    "\n",
    "The SDSS table [`SpecPhoto`](http://skyserver.sdss.org/dr15/en/help/browser/browser.aspx?cmd=description+SpecPhoto+V#&&history=description+SpecPhoto+V) is the joined `Spectro` and `Photo` objects that have the clean spectra. That is, it's well-detected sources with spectroscopic redshifts. We'll join this with\n",
    "the photometric redshifts of these sources so we can see how well our values line with those derived from the\n",
    "SDSS team's estimates.\n",
    "\n",
    "### Get some astro data "
   ]
  },
  {
   "cell_type": "code",
   "execution_count": null,
   "metadata": {},
   "outputs": [],
   "source": [
    "%matplotlib inline\n",
    "\n",
    "import io\n",
    "\n",
    "import matplotlib.pyplot as plt\n",
    "import numpy as np\n",
    "import pandas as pd\n",
    "import requests\n",
    "import seaborn as sns\n",
    "\n",
    "import corner \n",
    "sns.set()\n",
    "sns.set_context(\"poster\")"
   ]
  },
  {
   "cell_type": "code",
   "execution_count": null,
   "metadata": {},
   "outputs": [],
   "source": [
    "query = \"\"\"\n",
    "SELECT TOP 5000 SpecPhoto.objID, SpecPhoto.z as specz, SpecPhoto.zErr as speczerr,\n",
    "       Photoz.z as photoz, Photoz.zErr as photozerr,\n",
    "       dered_r, dered_u - dered_g as ug_color, dered_g - dered_r as gr_color, dered_r - dered_i as ri_color, \n",
    "       dered_i - dered_z as iz_color,  \n",
    "       modelMagErr_u, modelMagErr_g, modelMagErr_r, \n",
    "       modelMagErr_i, modelMagErr_z,\n",
    "       fiberMag_r, fiberMag_u - fiberMag_g as fiber_ug, fiberMag_g - fiberMag_r as fiber_gr, \n",
    "       fiberMag_r - fiberMag_i as fiber_ri, fiberMag_i - fiberMag_z as fiber_iz\n",
    "from SpecPhoto\n",
    "JOIN Photoz on Photoz.objid = SpecPhoto.objid\n",
    "WHERE\n",
    "  class = 'GALAXY' and\n",
    "  SpecPhoto.z > 0.2 and\n",
    "  SpecPhoto.zErr < 0.1 and\n",
    "  abs(Photoz.z  - SpecPhoto.z) < 1 and\n",
    "  SpecPhoto.zErr > 0.0\n",
    "\"\"\""
   ]
  },
  {
   "cell_type": "code",
   "execution_count": null,
   "metadata": {},
   "outputs": [],
   "source": [
    "sdss_sql_URL = \"https://skyserver.sdss.org/dr12/en/tools/search/x_results.aspx\"\n",
    "r = requests.get(sdss_sql_URL, params = {'cmd': query, 'format': \"csv\",\n",
    "                                         \"searchtool\": \"SQL\", \"TaskName\": \"Skyserver.Search.SQL\",\n",
    "                                         \"syntax\": \"NoSyntax\", \"ReturnHtml\": \"false\",\n",
    "                                         \"TableName\": \"\"})"
   ]
  },
  {
   "cell_type": "code",
   "execution_count": 27,
   "metadata": {},
   "outputs": [
    {
     "name": "stdout",
     "output_type": "stream",
     "text": [
      "5000\n"
     ]
    }
   ],
   "source": [
    "df = pd.read_csv(io.StringIO(r.text), delimiter=\",\", comment=\"#\")\n",
    "df.head()\n",
    "print(len(df))"
   ]
  },
  {
   "cell_type": "code",
   "execution_count": 28,
   "metadata": {},
   "outputs": [
    {
     "data": {
      "text/html": [
       "<div>\n",
       "<style scoped>\n",
       "    .dataframe tbody tr th:only-of-type {\n",
       "        vertical-align: middle;\n",
       "    }\n",
       "\n",
       "    .dataframe tbody tr th {\n",
       "        vertical-align: top;\n",
       "    }\n",
       "\n",
       "    .dataframe thead th {\n",
       "        text-align: right;\n",
       "    }\n",
       "</style>\n",
       "<table border=\"1\" class=\"dataframe\">\n",
       "  <thead>\n",
       "    <tr style=\"text-align: right;\">\n",
       "      <th></th>\n",
       "      <th>objID</th>\n",
       "      <th>specz</th>\n",
       "      <th>speczerr</th>\n",
       "      <th>photoz</th>\n",
       "      <th>photozerr</th>\n",
       "      <th>dered_r</th>\n",
       "      <th>ug_color</th>\n",
       "      <th>gr_color</th>\n",
       "      <th>ri_color</th>\n",
       "      <th>iz_color</th>\n",
       "      <th>modelMagErr_u</th>\n",
       "      <th>modelMagErr_g</th>\n",
       "      <th>modelMagErr_r</th>\n",
       "      <th>modelMagErr_i</th>\n",
       "      <th>modelMagErr_z</th>\n",
       "      <th>fiberMag_r</th>\n",
       "      <th>fiber_ug</th>\n",
       "      <th>fiber_gr</th>\n",
       "      <th>fiber_ri</th>\n",
       "      <th>fiber_iz</th>\n",
       "    </tr>\n",
       "  </thead>\n",
       "  <tbody>\n",
       "    <tr>\n",
       "      <th>count</th>\n",
       "      <td>5.000000e+03</td>\n",
       "      <td>5000.000000</td>\n",
       "      <td>5000.000000</td>\n",
       "      <td>5000.000000</td>\n",
       "      <td>5000.000000</td>\n",
       "      <td>5000.000000</td>\n",
       "      <td>5000.000000</td>\n",
       "      <td>5000.000000</td>\n",
       "      <td>5000.000000</td>\n",
       "      <td>5000.000000</td>\n",
       "      <td>5000.000000</td>\n",
       "      <td>5000.000000</td>\n",
       "      <td>5000.000000</td>\n",
       "      <td>5000.000000</td>\n",
       "      <td>5000.000000</td>\n",
       "      <td>5000.000000</td>\n",
       "      <td>5000.000000</td>\n",
       "      <td>5000.000000</td>\n",
       "      <td>5000.000000</td>\n",
       "      <td>5000.000000</td>\n",
       "    </tr>\n",
       "    <tr>\n",
       "      <th>mean</th>\n",
       "      <td>1.237652e+18</td>\n",
       "      <td>0.365744</td>\n",
       "      <td>0.000093</td>\n",
       "      <td>0.359025</td>\n",
       "      <td>0.027829</td>\n",
       "      <td>18.779322</td>\n",
       "      <td>2.191630</td>\n",
       "      <td>1.558052</td>\n",
       "      <td>0.650345</td>\n",
       "      <td>0.366621</td>\n",
       "      <td>0.747439</td>\n",
       "      <td>0.067930</td>\n",
       "      <td>0.024212</td>\n",
       "      <td>0.018509</td>\n",
       "      <td>0.050469</td>\n",
       "      <td>20.016589</td>\n",
       "      <td>1.766845</td>\n",
       "      <td>1.576444</td>\n",
       "      <td>0.676602</td>\n",
       "      <td>0.402228</td>\n",
       "    </tr>\n",
       "    <tr>\n",
       "      <th>std</th>\n",
       "      <td>4.402027e+12</td>\n",
       "      <td>0.117698</td>\n",
       "      <td>0.000057</td>\n",
       "      <td>0.114950</td>\n",
       "      <td>0.017543</td>\n",
       "      <td>1.027941</td>\n",
       "      <td>1.143757</td>\n",
       "      <td>0.342347</td>\n",
       "      <td>0.220636</td>\n",
       "      <td>0.170103</td>\n",
       "      <td>0.606642</td>\n",
       "      <td>0.080229</td>\n",
       "      <td>0.035977</td>\n",
       "      <td>0.027100</td>\n",
       "      <td>0.239173</td>\n",
       "      <td>0.842447</td>\n",
       "      <td>0.732707</td>\n",
       "      <td>0.301967</td>\n",
       "      <td>0.191406</td>\n",
       "      <td>0.097974</td>\n",
       "    </tr>\n",
       "    <tr>\n",
       "      <th>min</th>\n",
       "      <td>1.237646e+18</td>\n",
       "      <td>0.200025</td>\n",
       "      <td>0.000005</td>\n",
       "      <td>0.027043</td>\n",
       "      <td>0.006456</td>\n",
       "      <td>15.673520</td>\n",
       "      <td>-2.653950</td>\n",
       "      <td>-0.306141</td>\n",
       "      <td>-4.243711</td>\n",
       "      <td>-5.508318</td>\n",
       "      <td>0.021172</td>\n",
       "      <td>0.006273</td>\n",
       "      <td>0.004240</td>\n",
       "      <td>0.003957</td>\n",
       "      <td>0.008067</td>\n",
       "      <td>17.871460</td>\n",
       "      <td>-1.332376</td>\n",
       "      <td>-0.298803</td>\n",
       "      <td>-1.316587</td>\n",
       "      <td>-0.862431</td>\n",
       "    </tr>\n",
       "    <tr>\n",
       "      <th>25%</th>\n",
       "      <td>1.237649e+18</td>\n",
       "      <td>0.272058</td>\n",
       "      <td>0.000052</td>\n",
       "      <td>0.270845</td>\n",
       "      <td>0.017598</td>\n",
       "      <td>17.976072</td>\n",
       "      <td>1.487546</td>\n",
       "      <td>1.406834</td>\n",
       "      <td>0.536369</td>\n",
       "      <td>0.322762</td>\n",
       "      <td>0.288961</td>\n",
       "      <td>0.024650</td>\n",
       "      <td>0.010800</td>\n",
       "      <td>0.009860</td>\n",
       "      <td>0.024455</td>\n",
       "      <td>19.383710</td>\n",
       "      <td>1.304044</td>\n",
       "      <td>1.437371</td>\n",
       "      <td>0.561029</td>\n",
       "      <td>0.353060</td>\n",
       "    </tr>\n",
       "    <tr>\n",
       "      <th>50%</th>\n",
       "      <td>1.237651e+18</td>\n",
       "      <td>0.353331</td>\n",
       "      <td>0.000085</td>\n",
       "      <td>0.351439</td>\n",
       "      <td>0.023372</td>\n",
       "      <td>18.721125</td>\n",
       "      <td>2.043993</td>\n",
       "      <td>1.636604</td>\n",
       "      <td>0.611695</td>\n",
       "      <td>0.367015</td>\n",
       "      <td>0.568517</td>\n",
       "      <td>0.048369</td>\n",
       "      <td>0.017363</td>\n",
       "      <td>0.014670</td>\n",
       "      <td>0.036674</td>\n",
       "      <td>19.977420</td>\n",
       "      <td>1.826338</td>\n",
       "      <td>1.657443</td>\n",
       "      <td>0.637221</td>\n",
       "      <td>0.397353</td>\n",
       "    </tr>\n",
       "    <tr>\n",
       "      <th>75%</th>\n",
       "      <td>1.237654e+18</td>\n",
       "      <td>0.437748</td>\n",
       "      <td>0.000122</td>\n",
       "      <td>0.429578</td>\n",
       "      <td>0.031514</td>\n",
       "      <td>19.348078</td>\n",
       "      <td>2.688445</td>\n",
       "      <td>1.758868</td>\n",
       "      <td>0.737776</td>\n",
       "      <td>0.418416</td>\n",
       "      <td>1.071970</td>\n",
       "      <td>0.077721</td>\n",
       "      <td>0.026660</td>\n",
       "      <td>0.021187</td>\n",
       "      <td>0.054406</td>\n",
       "      <td>20.489785</td>\n",
       "      <td>2.211989</td>\n",
       "      <td>1.778452</td>\n",
       "      <td>0.762403</td>\n",
       "      <td>0.452136</td>\n",
       "    </tr>\n",
       "    <tr>\n",
       "      <th>max</th>\n",
       "      <td>1.237664e+18</td>\n",
       "      <td>0.997334</td>\n",
       "      <td>0.000721</td>\n",
       "      <td>0.964083</td>\n",
       "      <td>0.199811</td>\n",
       "      <td>24.246430</td>\n",
       "      <td>8.088779</td>\n",
       "      <td>6.477119</td>\n",
       "      <td>4.852097</td>\n",
       "      <td>5.587070</td>\n",
       "      <td>5.679807</td>\n",
       "      <td>1.538895</td>\n",
       "      <td>1.736818</td>\n",
       "      <td>1.597887</td>\n",
       "      <td>16.555400</td>\n",
       "      <td>22.995530</td>\n",
       "      <td>4.740141</td>\n",
       "      <td>3.063126</td>\n",
       "      <td>1.593012</td>\n",
       "      <td>1.075277</td>\n",
       "    </tr>\n",
       "  </tbody>\n",
       "</table>\n",
       "</div>"
      ],
      "text/plain": [
       "              objID        specz     speczerr       photoz    photozerr  \\\n",
       "count  5.000000e+03  5000.000000  5000.000000  5000.000000  5000.000000   \n",
       "mean   1.237652e+18     0.365744     0.000093     0.359025     0.027829   \n",
       "std    4.402027e+12     0.117698     0.000057     0.114950     0.017543   \n",
       "min    1.237646e+18     0.200025     0.000005     0.027043     0.006456   \n",
       "25%    1.237649e+18     0.272058     0.000052     0.270845     0.017598   \n",
       "50%    1.237651e+18     0.353331     0.000085     0.351439     0.023372   \n",
       "75%    1.237654e+18     0.437748     0.000122     0.429578     0.031514   \n",
       "max    1.237664e+18     0.997334     0.000721     0.964083     0.199811   \n",
       "\n",
       "           dered_r     ug_color     gr_color     ri_color     iz_color  \\\n",
       "count  5000.000000  5000.000000  5000.000000  5000.000000  5000.000000   \n",
       "mean     18.779322     2.191630     1.558052     0.650345     0.366621   \n",
       "std       1.027941     1.143757     0.342347     0.220636     0.170103   \n",
       "min      15.673520    -2.653950    -0.306141    -4.243711    -5.508318   \n",
       "25%      17.976072     1.487546     1.406834     0.536369     0.322762   \n",
       "50%      18.721125     2.043993     1.636604     0.611695     0.367015   \n",
       "75%      19.348078     2.688445     1.758868     0.737776     0.418416   \n",
       "max      24.246430     8.088779     6.477119     4.852097     5.587070   \n",
       "\n",
       "       modelMagErr_u  modelMagErr_g  modelMagErr_r  modelMagErr_i  \\\n",
       "count    5000.000000    5000.000000    5000.000000    5000.000000   \n",
       "mean        0.747439       0.067930       0.024212       0.018509   \n",
       "std         0.606642       0.080229       0.035977       0.027100   \n",
       "min         0.021172       0.006273       0.004240       0.003957   \n",
       "25%         0.288961       0.024650       0.010800       0.009860   \n",
       "50%         0.568517       0.048369       0.017363       0.014670   \n",
       "75%         1.071970       0.077721       0.026660       0.021187   \n",
       "max         5.679807       1.538895       1.736818       1.597887   \n",
       "\n",
       "       modelMagErr_z   fiberMag_r     fiber_ug     fiber_gr     fiber_ri  \\\n",
       "count    5000.000000  5000.000000  5000.000000  5000.000000  5000.000000   \n",
       "mean        0.050469    20.016589     1.766845     1.576444     0.676602   \n",
       "std         0.239173     0.842447     0.732707     0.301967     0.191406   \n",
       "min         0.008067    17.871460    -1.332376    -0.298803    -1.316587   \n",
       "25%         0.024455    19.383710     1.304044     1.437371     0.561029   \n",
       "50%         0.036674    19.977420     1.826338     1.657443     0.637221   \n",
       "75%         0.054406    20.489785     2.211989     1.778452     0.762403   \n",
       "max        16.555400    22.995530     4.740141     3.063126     1.593012   \n",
       "\n",
       "          fiber_iz  \n",
       "count  5000.000000  \n",
       "mean      0.402228  \n",
       "std       0.097974  \n",
       "min      -0.862431  \n",
       "25%       0.353060  \n",
       "50%       0.397353  \n",
       "75%       0.452136  \n",
       "max       1.075277  "
      ]
     },
     "execution_count": 28,
     "metadata": {},
     "output_type": "execute_result"
    }
   ],
   "source": [
    "df.describe()"
   ]
  },
  {
   "cell_type": "code",
   "execution_count": null,
   "metadata": {},
   "outputs": [],
   "source": [
    "df.to_csv(\"galspec.csv\", index=False)"
   ]
  },
  {
   "cell_type": "code",
   "execution_count": null,
   "metadata": {},
   "outputs": [],
   "source": [
    "corner.corner(df[['specz', 'dered_r', 'ug_color', 'gr_color', 'ri_color', 'iz_color']])"
   ]
  },
  {
   "cell_type": "code",
   "execution_count": null,
   "metadata": {},
   "outputs": [],
   "source": [
    "X = df[['dered_r', 'ug_color', 'gr_color', 'ri_color', 'iz_color', 'modelMagErr_u',\n",
    "       'modelMagErr_g', 'modelMagErr_r', 'modelMagErr_i', 'modelMagErr_z',\n",
    "       'fiberMag_r', 'fiber_ug', 'fiber_gr', 'fiber_ri', 'fiber_iz']]\n",
    "y = df[[\"specz\"]]"
   ]
  },
  {
   "cell_type": "markdown",
   "metadata": {},
   "source": [
    "## Let's do some regression - to get `specz`"
   ]
  },
  {
   "cell_type": "code",
   "execution_count": 11,
   "metadata": {},
   "outputs": [
    {
     "name": "stdout",
     "output_type": "stream",
     "text": [
      "feature vector shape= (5000, 15)\n",
      "class shape= (5000, 1)\n"
     ]
    }
   ],
   "source": [
    "print(\"feature vector shape=\", X.shape)\n",
    "print(\"class shape=\", y.shape)"
   ]
  },
  {
   "cell_type": "markdown",
   "metadata": {},
   "source": [
    "We want to split the data to help us learn a model on $\\vec X$ and then test to see how well our model does on held-out data. The `sklearn` [`train_test_split`](https://scikit-learn.org/stable/modules/generated/sklearn.model_selection.train_test_split.html#sklearn.model_selection.train_test_split) will do the work for us to split the data."
   ]
  },
  {
   "cell_type": "code",
   "execution_count": 13,
   "metadata": {},
   "outputs": [],
   "source": [
    "from sklearn.model_selection import train_test_split"
   ]
  },
  {
   "cell_type": "code",
   "execution_count": 14,
   "metadata": {},
   "outputs": [],
   "source": [
    "X_train, X_test, y_train, y_test = \\\n",
    "     train_test_split(X.values, y.values, test_size=0.33, random_state=42, shuffle=True)"
   ]
  },
  {
   "cell_type": "code",
   "execution_count": 19,
   "metadata": {},
   "outputs": [
    {
     "data": {
      "text/plain": [
       "((3350, 15), (3350, 1))"
      ]
     },
     "execution_count": 19,
     "metadata": {},
     "output_type": "execute_result"
    }
   ],
   "source": [
    "X_train.shape, y_train.shape"
   ]
  },
  {
   "cell_type": "code",
   "execution_count": 18,
   "metadata": {},
   "outputs": [
    {
     "data": {
      "text/plain": [
       "((1650, 15), (1650, 1))"
      ]
     },
     "execution_count": 18,
     "metadata": {},
     "output_type": "execute_result"
    }
   ],
   "source": [
    "X_test.shape, y_test.shape"
   ]
  },
  {
   "cell_type": "code",
   "execution_count": 20,
   "metadata": {},
   "outputs": [],
   "source": [
    "from sklearn import linear_model\n",
    "clf = linear_model.LinearRegression()"
   ]
  },
  {
   "cell_type": "code",
   "execution_count": 22,
   "metadata": {},
   "outputs": [
    {
     "data": {
      "text/plain": [
       "LinearRegression(copy_X=True, fit_intercept=True, n_jobs=None,\n",
       "         normalize=False)"
      ]
     },
     "execution_count": 22,
     "metadata": {},
     "output_type": "execute_result"
    }
   ],
   "source": [
    "# fit the model\n",
    "clf.fit(X_train, y_train)"
   ]
  },
  {
   "cell_type": "code",
   "execution_count": 24,
   "metadata": {},
   "outputs": [
    {
     "name": "stdout",
     "output_type": "stream",
     "text": [
      "MSE 0.04854207945772031\n"
     ]
    }
   ],
   "source": [
    "# now do the prediction\n",
    "y_lr_pred = clf.predict(X_test)\n",
    "\n",
    "# how well did we do?\n",
    "from sklearn.metrics import mean_squared_error\n",
    "mse = np.sqrt(mean_squared_error(y_test, y_lr_pred)) ; print(\"MSE\",mse)"
   ]
  },
  {
   "cell_type": "code",
   "execution_count": 25,
   "metadata": {},
   "outputs": [
    {
     "data": {
      "text/plain": [
       "<matplotlib.collections.LineCollection at 0x1a18fb4ac8>"
      ]
     },
     "execution_count": 25,
     "metadata": {},
     "output_type": "execute_result"
    },
    {
     "data": {
      "image/png": "[encoded data removed]",
      "text/plain": [
       "<matplotlib.figure.Figure at 0x1a18f5add8>"
      ]
     },
     "metadata": {},
     "output_type": "display_data"
    }
   ],
   "source": [
    "plt.plot(y_test,y_lr_pred - y_test,'o',alpha=0.2)\n",
    "\n",
    "plt.title(\"Linear Regression Residuals - MSE = %.3f\" % mse)\n",
    "\n",
    "plt.xlabel(\"Spectroscopic Redshift\")\n",
    "plt.ylabel(\"Residual\")\n",
    "plt.hlines(0,min(y_test),max(y_test),color=\"red\")"
   ]
  },
  {
   "cell_type": "code",
   "execution_count": 26,
   "metadata": {},
   "outputs": [
    {
     "name": "stdout",
     "output_type": "stream",
     "text": [
      "naive mse 0.013550829341883758\n"
     ]
    }
   ],
   "source": [
    "# here's the MSE guessing the AVERAGE value\n",
    "print(\"naive mse\", ((1./len(y_train)*(y_train - y_train.mean())**2).sum()))"
   ]
  },
  {
   "cell_type": "markdown",
   "metadata": {},
   "source": [
    "## k-nearest neighbors\n",
    "\n",
    "<img src=\"https://upload.wikimedia.org/wikipedia/commons/thumb/e/e7/KnnClassification.svg/2000px-KnnClassification.svg.png\" width=\"50%\">\n",
    "\n",
    "For each test point, $\\vec x_i$ find the $k$-nearest \n",
    "instances in the training data\n",
    "\n",
    "\n",
    "\"The principle behind nearest neighbor methods is to find a predefined number of training samples closest in distance to the new point, and predict the label from these. The number of samples can be a user-defined constant (k-nearest neighbor learning), or vary based on the local density of points (radius-based neighbor learning). The distance can, in general, be any metric measure: standard Euclidean distance is the most common choice. Neighbors-based methods are known as non-generalizing machine learning methods, since they simply “remember” all of its training data (possibly transformed into a fast indexing structure such as a Ball Tree or KD Tree.).\"\n",
    "\n",
    "http://scikit-learn.org/stable/modules/neighbors.html"
   ]
  },
  {
   "cell_type": "code",
   "execution_count": 29,
   "metadata": {},
   "outputs": [],
   "source": [
    "from sklearn import neighbors\n",
    "from sklearn import preprocessing\n",
    "\n",
    "pt = preprocessing.PowerTransformer()  # this serves to rescale (non-linearly) the data so that it is roughly Gaussian\n",
    "X_train_scaled = pt.fit_transform(X_train)\n",
    "X_test_scaled = pt.transform(X_test)"
   ]
  },
  {
   "cell_type": "code",
   "execution_count": 36,
   "metadata": {},
   "outputs": [
    {
     "data": {
      "text/plain": [
       "(array([1.000e+00, 8.000e+00, 1.410e+02, 8.750e+02, 1.531e+03, 4.830e+02,\n",
       "        2.120e+02, 7.300e+01, 2.400e+01, 2.000e+00]),\n",
       " array([-2.65395  , -1.5796771, -0.5054042,  0.5688687,  1.6431416,\n",
       "         2.7174145,  3.7916874,  4.8659603,  5.9402332,  7.0145061,\n",
       "         8.088779 ]),\n",
       " <a list of 10 Patch objects>)"
      ]
     },
     "execution_count": 36,
     "metadata": {},
     "output_type": "execute_result"
    },
    {
     "data": {
      "image/png": "[encoded data removed]",
      "text/plain": [
       "<matplotlib.figure.Figure at 0x1a167f4ba8>"
      ]
     },
     "metadata": {},
     "output_type": "display_data"
    }
   ],
   "source": [
    "plt.hist(X_train[:, 1])"
   ]
  },
  {
   "cell_type": "code",
   "execution_count": 35,
   "metadata": {},
   "outputs": [
    {
     "data": {
      "text/plain": [
       "(array([1.000e+00, 0.000e+00, 2.000e+00, 4.000e+00, 4.300e+01, 5.160e+02,\n",
       "        1.809e+03, 7.450e+02, 2.060e+02, 2.400e+01]),\n",
       " array([-8.23097726, -7.00252903, -5.77408081, -4.54563258, -3.31718435,\n",
       "        -2.08873612, -0.86028789,  0.36816034,  1.59660856,  2.82505679,\n",
       "         4.05350502]),\n",
       " <a list of 10 Patch objects>)"
      ]
     },
     "execution_count": 35,
     "metadata": {},
     "output_type": "execute_result"
    },
    {
     "data": {
      "image/png": "[encoded data removed]",
      "text/plain": [
       "<matplotlib.figure.Figure at 0x1a166852b0>"
      ]
     },
     "metadata": {},
     "output_type": "display_data"
    }
   ],
   "source": [
    "plt.hist(X_train_scaled[:, 1])"
   ]
  },
  {
   "cell_type": "code",
   "execution_count": 43,
   "metadata": {},
   "outputs": [
    {
     "data": {
      "text/plain": [
       "KNeighborsRegressor(algorithm='auto', leaf_size=30, metric='minkowski',\n",
       "          metric_params=None, n_jobs=None, n_neighbors=5, p=2,\n",
       "          weights='uniform')"
      ]
     },
     "execution_count": 43,
     "metadata": {},
     "output_type": "execute_result"
    }
   ],
   "source": [
    "clf1 = neighbors.KNeighborsRegressor(5)\n",
    "clf1.fit(X_train_scaled, y_train)"
   ]
  },
  {
   "cell_type": "code",
   "execution_count": 44,
   "metadata": {},
   "outputs": [
    {
     "name": "stdout",
     "output_type": "stream",
     "text": [
      "MSE (KNN) 0.002111249256999793\n"
     ]
    },
    {
     "data": {
      "text/plain": [
       "<matplotlib.collections.LineCollection at 0x1a195cfa20>"
      ]
     },
     "execution_count": 44,
     "metadata": {},
     "output_type": "execute_result"
    },
    {
     "data": {
      "image/png": "[encoded data removed]",
      "text/plain": [
       "<matplotlib.figure.Figure at 0x1a1951c630>"
      ]
     },
     "metadata": {},
     "output_type": "display_data"
    }
   ],
   "source": [
    "y_knn_pred = clf1.predict(X_test_scaled)\n",
    "mse = mean_squared_error(y_test, y_knn_pred) ; print(\"MSE (KNN)\", mse)\n",
    "plt.plot(y_test, y_knn_pred - y_test,'o',alpha=0.2)\n",
    "plt.title(\"k-NN Residuals - MSE = %.3f\" % mse)\n",
    "plt.xlabel(\"Spectroscopic Redshift\")\n",
    "plt.ylabel(\"Residual\")\n",
    "plt.hlines(0,min(y_test),max(y_test),color=\"red\")"
   ]
  },
  {
   "cell_type": "markdown",
   "metadata": {},
   "source": [
    "## Error Estimation & Model Selection\n",
    "\n",
    "**Q**: How will our model perform on future data?\n",
    "\n",
    "So far, we’ve split the data, using one set to train the model and the other to test its performance\n",
    "\n",
    "This train-test strategy avoids over-fitting to the sample on hand, but wastes data & can produce poor error estimates.\n",
    "\n",
    "cf http://scikit-learn.org/stable/tutorial/statistical_inference/model_selection.html\n",
    "\n",
    "### model selection: cross-validation\n",
    "\n",
    "\n",
    "- *K-fold CV* - randomly split the training data into K folds.  For each $k=1,...,K$, train model only on the data not in fold $k$ & predict for data in fold $k$.  Compute performance metric over CV predictions.\n",
    "\n",
    "- *Leave-one-out (LOO) CV* - K-fold CV with  K = number of training points.\n",
    "\n",
    "<img src=\"https://www.evernote.com/l/AUWvg9caKz1OO7opS2Ji3Z7OwOFkLCrg2WsB/image.png\">"
   ]
  },
  {
   "cell_type": "markdown",
   "metadata": {},
   "source": [
    "<img src=\"http://i.stack.imgur.com/YWgro.gif\">"
   ]
  },
  {
   "cell_type": "code",
   "execution_count": 45,
   "metadata": {},
   "outputs": [],
   "source": [
    "from sklearn import model_selection"
   ]
  },
  {
   "cell_type": "code",
   "execution_count": 46,
   "metadata": {},
   "outputs": [],
   "source": [
    "model_selection.GridSearchCV # hyperparameter optimization"
   ]
  },
  {
   "cell_type": "code",
   "execution_count": 48,
   "metadata": {},
   "outputs": [],
   "source": [
    "from sklearn import linear_model\n",
    "clf = linear_model.LinearRegression()\n",
    "\n",
    "from sklearn.model_selection import cross_val_score\n",
    "\n",
    "def print_cv_score_summary(model, xx, yy, cv):\n",
    "    scores = cross_val_score(model, xx, yy, cv=cv, n_jobs=1)\n",
    "    print(\"mean: {:3f}, stdev: {:3f}\".format(\n",
    "        np.mean(scores), np.std(scores)))"
   ]
  },
  {
   "cell_type": "code",
   "execution_count": 50,
   "metadata": {},
   "outputs": [
    {
     "name": "stdout",
     "output_type": "stream",
     "text": [
      "mean: 0.682925, stdev: 0.255217\n"
     ]
    }
   ],
   "source": [
    "# Returns the coefficient of determination R^2 of the prediction.\n",
    "print_cv_score_summary(clf, X.values, y.values,\n",
    "                       cv=model_selection.KFold(5, shuffle=True, random_state = 42))"
   ]
  },
  {
   "cell_type": "code",
   "execution_count": null,
   "metadata": {},
   "outputs": [],
   "source": []
  }
 ],
 "metadata": {
  "kernelspec": {
   "display_name": "Python 3",
   "language": "python",
   "name": "python3"
  },
  "language_info": {
   "codemirror_mode": {
    "name": "ipython",
    "version": 3
   },
   "file_extension": ".py",
   "mimetype": "text/x-python",
   "name": "python",
   "nbconvert_exporter": "python",
   "pygments_lexer": "ipython3",
   "version": "3.6.8"
  }
 },
 "nbformat": 4,
 "nbformat_minor": 2
}
