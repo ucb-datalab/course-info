{
 "cells": [
  {
   "cell_type": "code",
   "execution_count": 1,
   "metadata": {},
   "outputs": [
    {
     "data": {
      "text/html": [
       "<style>\n",
       "\n",
       ".rendered_html\n",
       "{\n",
       "  color: #2C5494;\n",
       "  font-family: Ubuntu;\n",
       "  font-size: 140%;\n",
       "  line-height: 1.1;\n",
       "  margin: 0.5em 0;\n",
       "  }\n",
       "\n",
       ".talk_title\n",
       "{\n",
       "  color: #498AF3;\n",
       "  font-size: 250%;\n",
       "  font-weight:bold;\n",
       "  line-height: 1.2; \n",
       "  margin: 10px 50px 10px;\n",
       "  }\n",
       "\n",
       ".subtitle\n",
       "{\n",
       "  color: #386BBC;\n",
       "  font-size: 180%;\n",
       "  font-weight:bold;\n",
       "  line-height: 1.2; \n",
       "  margin: 20px 50px 20px;\n",
       "  }\n",
       "\n",
       ".slide-header, p.slide-header\n",
       "{\n",
       "  color: #498AF3;\n",
       "  font-size: 200%;\n",
       "  font-weight:bold;\n",
       "  margin: 0px 20px 10px;\n",
       "  page-break-before: always;\n",
       "  text-align: center;\n",
       "  }\n",
       "\n",
       ".rendered_html h1\n",
       "{\n",
       "  color: #498AF3;\n",
       "  line-height: 1.2; \n",
       "  margin: 0.15em 0em 0.5em;\n",
       "  page-break-before: always;\n",
       "  text-align: center;\n",
       "  }\n",
       "\n",
       "\n",
       ".rendered_html h2\n",
       "{ \n",
       "  color: #386BBC;\n",
       "  line-height: 1.2;\n",
       "  margin: 1.1em 0em 0.5em;\n",
       "  }\n",
       "\n",
       ".rendered_html h3\n",
       "{ \n",
       "  font-size: 100%;\n",
       "  line-height: 1.2;\n",
       "  margin: 1.1em 0em 0.5em;\n",
       "  }\n",
       "\n",
       ".rendered_html li\n",
       "{\n",
       "  line-height: 1.8;\n",
       "  }\n",
       "\n",
       ".input_prompt, .CodeMirror-lines, .output_area\n",
       "{\n",
       "  font-family: Consolas;\n",
       "  font-size: 120%;\n",
       "  }\n",
       "\n",
       ".gap-above\n",
       "{\n",
       "  padding-top: 200px;\n",
       "  }\n",
       "\n",
       ".gap01\n",
       "{\n",
       "  padding-top: 10px;\n",
       "  }\n",
       "\n",
       ".gap05\n",
       "{\n",
       "  padding-top: 50px;\n",
       "  }\n",
       "\n",
       ".gap1\n",
       "{\n",
       "  padding-top: 100px;\n",
       "  }\n",
       "\n",
       ".gap2\n",
       "{\n",
       "  padding-top: 200px;\n",
       "  }\n",
       "\n",
       ".gap3\n",
       "{\n",
       "  padding-top: 300px;\n",
       "  }\n",
       "\n",
       ".emph\n",
       "{\n",
       "  color: #386BBC;\n",
       "  }\n",
       "\n",
       ".warn\n",
       "{\n",
       "  color: red;\n",
       "  }\n",
       "\n",
       ".center\n",
       "{\n",
       "  text-align: center;\n",
       "  }\n",
       "\n",
       ".nb_link\n",
       "{\n",
       "    padding-bottom: 0.5em;\n",
       "}\n",
       "\n",
       "</style>"
      ],
      "text/plain": [
       "<IPython.core.display.HTML object>"
      ]
     },
     "metadata": {},
     "output_type": "display_data"
    }
   ],
   "source": [
    "%run ../talktools.py"
   ]
  },
  {
   "cell_type": "markdown",
   "metadata": {},
   "source": [
    "# Meeting/Lecture 1 - Jan 28, 2019\n",
    "\n",
    "## Agenda for today\n",
    "\n",
    "* Introduction / Icebreaker (this notebook, *00_Introduction*)\n",
    "\n",
    "   * Organize into groups\n",
    "   \n",
    "* Class Logistics \n",
    "\n",
    "* Lab \\#0 progress discussion\n",
    "\n",
    "   * Report out by group\n",
    "\n",
    "* A little break \n",
    "\n",
    "* Group visualization discussion (*01_plotting_and_viz_intro*)\n",
    "\n",
    "    * Open question\n",
    "  \n",
    "* Gaia presentation (if time)"
   ]
  },
  {
   "cell_type": "markdown",
   "metadata": {},
   "source": [
    "## Introduction / Icebreaker\n",
    "\n",
    "* Who are you, who are the teachers?\n",
    "\n",
    "* Let's get into groups...randomly, but deterministically..."
   ]
  },
  {
   "cell_type": "code",
   "execution_count": 7,
   "metadata": {},
   "outputs": [],
   "source": [
    "students = [\"Arjun S.\", \"Jeremy W.\", \"Stephen G.\", \"Jonas L.\",\n",
    "                   \"Hannah M.\", \"Jay G.\", \"Siyao J.\", \"Jon P.\",\n",
    "                   \"Riya S.\", \"Oline R.\", \"Alex Y.\", \"Ryan D.\", \n",
    "                   \"Jacqueline B.\", \"Keto Z.\", \"Zack O.\",\n",
    "                   \"Nathan S.\", \"Lauren K.\", \"Erin R.\",\n",
    "                   \"Dominic L.\", \"Victor A.\", \"Kishore P.\",\n",
    "                   \"Kevin T.\", \"Elliot C.\"]"
   ]
  },
  {
   "cell_type": "code",
   "execution_count": 8,
   "metadata": {},
   "outputs": [
    {
     "name": "stdout",
     "output_type": "stream",
     "text": [
      "Today we have 23 students.\n",
      "There are no name conflicts: True\n"
     ]
    }
   ],
   "source": [
    "print(f\"Today we have {len(students)} students.\")\n",
    "print(f\"There are no name conflicts: {len(students) == len(set(students))}\")"
   ]
  },
  {
   "cell_type": "markdown",
   "metadata": {},
   "source": [
    "If you dont know about f-strings, today is your lucky day. They were introduced in Python 3.6 and they rock!\n",
    "\n",
    "Some links for you:\n",
    "    - https://docs.python.org/3/whatsnew/3.6.html#whatsnew36-pep498\n",
    "    - https://docs.python.org/3/reference/lexical_analysis.html#f-strings"
   ]
  },
  {
   "cell_type": "code",
   "execution_count": 9,
   "metadata": {},
   "outputs": [],
   "source": [
    "preferred_size_of_group = 4\n",
    "smallest_group_size = 3"
   ]
  },
  {
   "cell_type": "code",
   "execution_count": 10,
   "metadata": {},
   "outputs": [
    {
     "name": "stdout",
     "output_type": "stream",
     "text": [
      "With a preferred group size of 4 the smallest group would be 3\n",
      "That is fine.\n"
     ]
    }
   ],
   "source": [
    "print(f\"With a preferred group size of {preferred_size_of_group} the smallest group would be {len(students) % preferred_size_of_group}\")\n",
    "print(f\"That is {'fine.' if len(students) % preferred_size_of_group >= smallest_group_size else 'Unacceptable!'}\")"
   ]
  },
  {
   "cell_type": "code",
   "execution_count": 11,
   "metadata": {},
   "outputs": [
    {
     "name": "stdout",
     "output_type": "stream",
     "text": [
      "Number of groups will be 6.\n"
     ]
    }
   ],
   "source": [
    "import numpy as np\n",
    "\n",
    "n_groups = int(np.ceil(len(students) / preferred_size_of_group))\n",
    "print(f\"Number of groups will be {n_groups}.\")"
   ]
  },
  {
   "cell_type": "markdown",
   "metadata": {},
   "source": [
    "When using randomness, it's almost always a good idea to be able to reproduce the\n",
    "results. Pseudo-random number generators are \"seeded\" with a number and then yield \n",
    "seemingly random numbers after that. But those numbers are deterministic given the seed\n",
    "and the calling sequence of the generator.\n",
    "\n",
    "See https://www.numpy.org/devdocs/reference/generated/numpy.random.RandomState.html"
   ]
  },
  {
   "cell_type": "code",
   "execution_count": 19,
   "metadata": {},
   "outputs": [],
   "source": [
    "class_seed =   42  # let's set this together\n",
    "rnd = np.random.RandomState(class_seed)"
   ]
  },
  {
   "cell_type": "code",
   "execution_count": 20,
   "metadata": {},
   "outputs": [
    {
     "data": {
      "text/plain": [
       "['Nathan S.',\n",
       " 'Oline R.',\n",
       " 'Arjun S.',\n",
       " 'Riya S.',\n",
       " 'Erin R.',\n",
       " 'Jacqueline B.',\n",
       " 'Jeremy W.',\n",
       " 'Keto Z.',\n",
       " 'Jay G.',\n",
       " 'Stephen G.',\n",
       " 'Ryan D.',\n",
       " 'Kishore P.',\n",
       " 'Jonas L.',\n",
       " 'Hannah M.',\n",
       " 'Dominic L.',\n",
       " 'Lauren K.',\n",
       " 'Kevin T.',\n",
       " 'Elliot C.',\n",
       " 'Jon P.',\n",
       " 'Alex Y.',\n",
       " 'Zack O.',\n",
       " 'Victor A.',\n",
       " 'Siyao J.']"
      ]
     },
     "execution_count": 20,
     "metadata": {},
     "output_type": "execute_result"
    }
   ],
   "source": [
    "import copy\n",
    "\n",
    "shuffled_students = copy.copy(students)\n",
    "rnd.shuffle(shuffled_students)\n",
    "shuffled_students"
   ]
  },
  {
   "cell_type": "markdown",
   "metadata": {},
   "source": [
    "Now make the groups..."
   ]
  },
  {
   "cell_type": "code",
   "execution_count": 21,
   "metadata": {},
   "outputs": [
    {
     "name": "stdout",
     "output_type": "stream",
     "text": [
      "Group 0: Nathan S., Oline R., Arjun S., Riya S.\n",
      "Group 1: Erin R., Jacqueline B., Jeremy W., Keto Z.\n",
      "Group 2: Jay G., Stephen G., Ryan D., Kishore P.\n",
      "Group 3: Jonas L., Hannah M., Dominic L., Lauren K.\n",
      "Group 4: Kevin T., Elliot C., Jon P., Alex Y.\n",
      "Group 5: Zack O., Victor A., Siyao J.\n"
     ]
    }
   ],
   "source": [
    "for group_num, members in enumerate(np.array_split(shuffled_students,  n_groups)):\n",
    "    print(f\"Group {group_num}: {', '.join(list(members))}\")"
   ]
  },
  {
   "cell_type": "markdown",
   "metadata": {},
   "source": [
    "## Now, a big question for your group to ponder...\n",
    "\n",
    "*Are there more grains of sand on the Earth's beaches or stars in the observable universe?*\n",
    "\n",
    "Let's discuss..."
   ]
  },
  {
   "cell_type": "markdown",
   "metadata": {},
   "source": [
    "## Class Logistics\n",
    "\n",
    "### Course Aims\n",
    "\n",
    "- Introduce and motivate a range of analysis techniques and data pipelining\n",
    "- Gain practical, in-depth experience doing inference on real, open-ended modern astronomical challenges\n",
    "- Build reproducible, well-tested, well-documented software & infrastructure\n",
    "- Learn to work with open data and code, and in an open science environment\n",
    "- Hone presentation (speaking & visualization) skills\n",
    "- Develop skills for future in academia, industry, …\n",
    "\n",
    "### Communication \n",
    "\n",
    "* Main communication channel for us is Piazza (https://piazza.com/berkeley/spring2019/ay128256/home). Please sign up now if you haven't already.\n",
    "\n",
    "* Course website will contain relevant links (https://ucb-datalab.github.io/), mostly pointing to the online material in GitHub (https://github.com/ucb-datalab/course-materials)\n",
    "\n",
    "\n",
    "### Course Format\n",
    "\n",
    "- 4 credits (grad and undergrad)\n",
    "- 1 weekly 3 hour meeting\n",
    "- “Show & tell” progress reports + instructor lecture\n",
    "- 3++ labs + final project & presentation\n",
    "- Will require a fair amount of dedicated coding time\n",
    "- It WILL fulfill the astro major lab requreiment in Spring 2019\n",
    "- Ugrad/Grad together/Grads will do a more in-depth labs\n",
    "\n",
    "\n",
    "### Lectures\n",
    "\n",
    "Mondays 4-7pm in 131 Campbell Hall (no class on 1/21, 2/18, 3/25)\n",
    "\n",
    "### Office Hours\n",
    "\n",
    "* Josh: Thurs 2:30-3:30 pm (203 Campbell)\n",
    "* Dan: Weds: 4-5pm (311 Campbell)\n",
    "* Kareem: Tues (5-6pm) and Fri (9-10am) (419 Campbell)\n",
    "* By appointment\n",
    "\n",
    "### Final Project\n",
    "You will pitch a project idea to the instructors and then have 2-3 weeks to complete it. A complete final project includes a submitted python notebook + a AAS style talk on the project to the class.  Presentations are scheduled for the class meeting of the term, Monday 4/29.\n",
    "\n",
    "### Grading\n",
    "* 25%: Class Participation -- Active engagement in class discussion and lecture, participation during \"show and tell\"\n",
    "* 60%: Lab Reports/Notebooks -- due before specified class, -10% for each day late, you can collaborate with people in the class, but all work, writeups, notebooks, coding, plots, etc. MUST be your own\n",
    "* 15%: Final Project and Presentation"
   ]
  },
  {
   "cell_type": "markdown",
   "metadata": {},
   "source": [
    "## Lab \\#0 progress discussion"
   ]
  },
  {
   "cell_type": "code",
   "execution_count": null,
   "metadata": {
    "collapsed": true
   },
   "outputs": [],
   "source": [
    "import sys\n",
    "print(f\"Python: {sys.version}\")\n",
    "print(f\"Numpy: {np.__version__}\")"
   ]
  }
 ],
 "metadata": {
  "kernelspec": {
   "display_name": "Python 3",
   "language": "python",
   "name": "python3"
  },
  "language_info": {
   "codemirror_mode": {
    "name": "ipython",
    "version": 3
   },
   "file_extension": ".py",
   "mimetype": "text/x-python",
   "name": "python",
   "nbconvert_exporter": "python",
   "pygments_lexer": "ipython3",
   "version": "3.6.4"
  }
 },
 "nbformat": 4,
 "nbformat_minor": 2
}
