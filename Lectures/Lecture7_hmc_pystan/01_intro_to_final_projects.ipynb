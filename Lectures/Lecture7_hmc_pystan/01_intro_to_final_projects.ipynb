{
 "cells": [
  {
   "cell_type": "code",
   "execution_count": 2,
   "metadata": {},
   "outputs": [
    {
     "data": {
      "text/html": [
       "<style>\n",
       "\n",
       ".rendered_html\n",
       "{\n",
       "  color: #2C5494;\n",
       "  font-family: Ubuntu;\n",
       "  font-size: 140%;\n",
       "  line-height: 1.1;\n",
       "  margin: 0.5em 0;\n",
       "  }\n",
       "\n",
       ".talk_title\n",
       "{\n",
       "  color: #498AF3;\n",
       "  font-size: 250%;\n",
       "  font-weight:bold;\n",
       "  line-height: 1.2; \n",
       "  margin: 10px 50px 10px;\n",
       "  }\n",
       "\n",
       ".subtitle\n",
       "{\n",
       "  color: #386BBC;\n",
       "  font-size: 180%;\n",
       "  font-weight:bold;\n",
       "  line-height: 1.2; \n",
       "  margin: 20px 50px 20px;\n",
       "  }\n",
       "\n",
       ".slide-header, p.slide-header\n",
       "{\n",
       "  color: #498AF3;\n",
       "  font-size: 200%;\n",
       "  font-weight:bold;\n",
       "  margin: 0px 20px 10px;\n",
       "  page-break-before: always;\n",
       "  text-align: center;\n",
       "  }\n",
       "\n",
       ".rendered_html h1\n",
       "{\n",
       "  color: #498AF3;\n",
       "  line-height: 1.2; \n",
       "  margin: 0.15em 0em 0.5em;\n",
       "  page-break-before: always;\n",
       "  text-align: center;\n",
       "  }\n",
       "\n",
       "\n",
       ".rendered_html h2\n",
       "{ \n",
       "  color: #386BBC;\n",
       "  line-height: 1.2;\n",
       "  margin: 1.1em 0em 0.5em;\n",
       "  }\n",
       "\n",
       ".rendered_html h3\n",
       "{ \n",
       "  font-size: 100%;\n",
       "  line-height: 1.2;\n",
       "  margin: 1.1em 0em 0.5em;\n",
       "  }\n",
       "\n",
       ".rendered_html li\n",
       "{\n",
       "  line-height: 1.8;\n",
       "  }\n",
       "\n",
       ".input_prompt, .CodeMirror-lines, .output_area\n",
       "{\n",
       "  font-family: Consolas;\n",
       "  font-size: 120%;\n",
       "  }\n",
       "\n",
       ".gap-above\n",
       "{\n",
       "  padding-top: 200px;\n",
       "  }\n",
       "\n",
       ".gap01\n",
       "{\n",
       "  padding-top: 10px;\n",
       "  }\n",
       "\n",
       ".gap05\n",
       "{\n",
       "  padding-top: 50px;\n",
       "  }\n",
       "\n",
       ".gap1\n",
       "{\n",
       "  padding-top: 100px;\n",
       "  }\n",
       "\n",
       ".gap2\n",
       "{\n",
       "  padding-top: 200px;\n",
       "  }\n",
       "\n",
       ".gap3\n",
       "{\n",
       "  padding-top: 300px;\n",
       "  }\n",
       "\n",
       ".emph\n",
       "{\n",
       "  color: #386BBC;\n",
       "  }\n",
       "\n",
       ".warn\n",
       "{\n",
       "  color: red;\n",
       "  }\n",
       "\n",
       ".center\n",
       "{\n",
       "  text-align: center;\n",
       "  }\n",
       "\n",
       ".nb_link\n",
       "{\n",
       "    padding-bottom: 0.5em;\n",
       "}\n",
       "\n",
       "</style>"
      ],
      "text/plain": [
       "<IPython.core.display.HTML object>"
      ]
     },
     "metadata": {},
     "output_type": "display_data"
    }
   ],
   "source": [
    "%run ../talktools.py"
   ]
  },
  {
   "cell_type": "markdown",
   "metadata": {},
   "source": [
    "# Final Project Logistics and Ideas\n",
    "\n",
    "**AY128/256 UC Berkeley**\n",
    "\n",
    "(4/1/2019)"
   ]
  },
  {
   "cell_type": "markdown",
   "metadata": {},
   "source": [
    "## Final Project \n",
    "\n",
    "* A self-designed project based on ideas learned in class\n",
    "* Can use similar techniques / science areas, or build off of what we've done\n",
    "* 1 person, 1 project -- can get help from others\n",
    "* We will provide suggestions for project ideas\n",
    "* OK to replicate something already in the literature\n",
    "* You'll have ~2 weeks after the end of lab 3"
   ]
  },
  {
   "cell_type": "markdown",
   "metadata": {},
   "source": [
    "## Final Project Assessment\n",
    "\n",
    "* 1 talk in the style of a standard American Astronomical Society (AAS) talk (5+2 min)\n",
    "* Asking questions during other people's talks (part of your participation grade too)\n",
    "* 1 final jupyter notebook write up (as you've done with labs)"
   ]
  },
  {
   "cell_type": "markdown",
   "metadata": {},
   "source": [
    "## Final Project Timeline\n",
    "\n",
    "* On or before __Monday 4/15__: final project proposals due to instructors via Piazza\n",
    "* On __Monday 4/29__: all talks will be given during lecture to entire class -- attendance mandatory\n",
    "* On __Friday 5/3 by 4pm__: final project notebooks due to instuctors via Piazza"
   ]
  },
  {
   "cell_type": "markdown",
   "metadata": {},
   "source": [
    "## Final project scope\n",
    "\n",
    "* should be doable on ~2 week timescale\n",
    "* needs to be non-trivial, but also managable (i.e., you will want to complete it)\n",
    "* needs to have clearly defined goals, astrophysical questions to answer"
   ]
  },
  {
   "cell_type": "markdown",
   "metadata": {},
   "source": [
    "## Final project proposal\n",
    "\n",
    "* Should briefly outline main goal of project\n",
    "* Should break down the project into sub-steps similar to the lab\n",
    "* Good to iterate on project ideas with instructors well __before__ project proposals are due"
   ]
  },
  {
   "cell_type": "markdown",
   "metadata": {},
   "source": [
    "## Final project examples\n",
    "\n",
    "Here are some examples, we'll post these and more suggestions to Piazza:\n",
    "\n",
    "* [Measuring the Gaia parallax zeropoint via Cepheids](http://adsabs.harvard.edu/abs/2018ApJ...861..126R)\n",
    "* [Finding and validating hypervelocity stars with Gaia](http://adsabs.harvard.edu/abs/2018ApJ...865...15S)\n",
    "* [Measuring the MW rotation curve with Gaia](http://adsabs.harvard.edu/abs/2018MNRAS.479L.108K)\n",
    "* [Measuring the orbits of globular clusters with Gaia](http://adsabs.harvard.edu/abs/2019MNRAS.484.2832V)\n",
    "* [Morphological classification of galaxy images](http://adsabs.harvard.edu/abs/2018MNRAS.474.5232S)\n",
    "* [Stellar Chemsity from MW surveys](http://adsabs.harvard.edu/abs/2017MNRAS.471.3057M)\n",
    "* [Modeling Light Curves of SNe](http://adsabs.harvard.edu/abs/2017PASP..129j4502K)\n",
    "* [Modeling Stellar Light Curves](http://adsabs.harvard.edu/abs/2018AJ....155...16C)\n",
    "* Photometric metallicities for stars\n",
    "* something else that you're interested in..."
   ]
  },
  {
   "cell_type": "code",
   "execution_count": null,
   "metadata": {},
   "outputs": [],
   "source": []
  }
 ],
 "metadata": {
  "kernelspec": {
   "display_name": "Python 3",
   "language": "python",
   "name": "python3"
  },
  "language_info": {
   "codemirror_mode": {
    "name": "ipython",
    "version": 3
   },
   "file_extension": ".py",
   "mimetype": "text/x-python",
   "name": "python",
   "nbconvert_exporter": "python",
   "pygments_lexer": "ipython3",
   "version": "3.7.3"
  }
 },
 "nbformat": 4,
 "nbformat_minor": 2
}
