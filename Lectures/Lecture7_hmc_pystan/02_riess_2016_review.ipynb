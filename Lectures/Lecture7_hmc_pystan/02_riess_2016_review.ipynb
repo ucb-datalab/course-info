{
 "cells": [
  {
   "cell_type": "code",
   "execution_count": 2,
   "metadata": {},
   "outputs": [
    {
     "data": {
      "text/html": [
       "<style>\n",
       "\n",
       ".rendered_html\n",
       "{\n",
       "  color: #2C5494;\n",
       "  font-family: Ubuntu;\n",
       "  font-size: 140%;\n",
       "  line-height: 1.1;\n",
       "  margin: 0.5em 0;\n",
       "  }\n",
       "\n",
       ".talk_title\n",
       "{\n",
       "  color: #498AF3;\n",
       "  font-size: 250%;\n",
       "  font-weight:bold;\n",
       "  line-height: 1.2; \n",
       "  margin: 10px 50px 10px;\n",
       "  }\n",
       "\n",
       ".subtitle\n",
       "{\n",
       "  color: #386BBC;\n",
       "  font-size: 180%;\n",
       "  font-weight:bold;\n",
       "  line-height: 1.2; \n",
       "  margin: 20px 50px 20px;\n",
       "  }\n",
       "\n",
       ".slide-header, p.slide-header\n",
       "{\n",
       "  color: #498AF3;\n",
       "  font-size: 200%;\n",
       "  font-weight:bold;\n",
       "  margin: 0px 20px 10px;\n",
       "  page-break-before: always;\n",
       "  text-align: center;\n",
       "  }\n",
       "\n",
       ".rendered_html h1\n",
       "{\n",
       "  color: #498AF3;\n",
       "  line-height: 1.2; \n",
       "  margin: 0.15em 0em 0.5em;\n",
       "  page-break-before: always;\n",
       "  text-align: center;\n",
       "  }\n",
       "\n",
       "\n",
       ".rendered_html h2\n",
       "{ \n",
       "  color: #386BBC;\n",
       "  line-height: 1.2;\n",
       "  margin: 1.1em 0em 0.5em;\n",
       "  }\n",
       "\n",
       ".rendered_html h3\n",
       "{ \n",
       "  font-size: 100%;\n",
       "  line-height: 1.2;\n",
       "  margin: 1.1em 0em 0.5em;\n",
       "  }\n",
       "\n",
       ".rendered_html li\n",
       "{\n",
       "  line-height: 1.8;\n",
       "  }\n",
       "\n",
       ".input_prompt, .CodeMirror-lines, .output_area\n",
       "{\n",
       "  font-family: Consolas;\n",
       "  font-size: 120%;\n",
       "  }\n",
       "\n",
       ".gap-above\n",
       "{\n",
       "  padding-top: 200px;\n",
       "  }\n",
       "\n",
       ".gap01\n",
       "{\n",
       "  padding-top: 10px;\n",
       "  }\n",
       "\n",
       ".gap05\n",
       "{\n",
       "  padding-top: 50px;\n",
       "  }\n",
       "\n",
       ".gap1\n",
       "{\n",
       "  padding-top: 100px;\n",
       "  }\n",
       "\n",
       ".gap2\n",
       "{\n",
       "  padding-top: 200px;\n",
       "  }\n",
       "\n",
       ".gap3\n",
       "{\n",
       "  padding-top: 300px;\n",
       "  }\n",
       "\n",
       ".emph\n",
       "{\n",
       "  color: #386BBC;\n",
       "  }\n",
       "\n",
       ".warn\n",
       "{\n",
       "  color: red;\n",
       "  }\n",
       "\n",
       ".center\n",
       "{\n",
       "  text-align: center;\n",
       "  }\n",
       "\n",
       ".nb_link\n",
       "{\n",
       "    padding-bottom: 0.5em;\n",
       "}\n",
       "\n",
       "</style>"
      ],
      "text/plain": [
       "<IPython.core.display.HTML object>"
      ]
     },
     "metadata": {},
     "output_type": "display_data"
    }
   ],
   "source": [
    "%run ../talktools.py"
   ]
  },
  {
   "cell_type": "markdown",
   "metadata": {},
   "source": [
    "# Measuring $H_0$ from Riess et al. (2016)\n",
    "\n",
    "**AY128/256 UC Berkeley**\n",
    "\n",
    "(4/1/2019)\n",
    "\n",
    "Measuring Hubble's constant via the distance ladder\n",
    "\n",
    "http://adsabs.harvard.edu/abs/2016ApJ...826...56R"
   ]
  },
  {
   "cell_type": "markdown",
   "metadata": {},
   "source": [
    "### A main goal of this paper is to construct the distance ladder self-consistently\n",
    "<img src=\"figures/riess2016_fig10.png\" height=600 width=600></img>"
   ]
  },
  {
   "cell_type": "markdown",
   "metadata": {},
   "source": [
    "### Common ways to measure distances to nearby galaxies:\n",
    "\n",
    "* __RR Lyrae__: pulsating low-mass stars, measure period-luminosity relationship.  Stars are faint, so only possible with Hubble to ~5 Mpc.\n",
    "* __Tip of the Red Giant Branch (TRGB)__: onset of helium flash in the core of low/intermediate mass stars.  Happens at a roughly constant magnitude in red-optical / near-IR.  Possible with Hubble to ~20 Mpc\n",
    "* __Cepheids__: pulsating high-mass stars (4-20 $M_{\\odot}$), measure period-luminosity relationship.  Stars are bright, so useful to tens of Mpc.  \n",
    "* __Maser__: microwave equivalent of a laser.  Stimulated, cohert monochromatic emission from some astrophysical source (e.g., water in a molecular cloud).  A master in Keplarian orbit around the black hole in NGC 5248 allows for a very precise, geometric distance measurement.  Masers are rare, otherwise are great distance indicators.\n",
    "* __Surface Brightness Fluctuations__: galaxies are made up of finite numbers of stars, so there are variations from pixel to pixel in the surface brightness.  The smoother the residuals the more distant the galaxy (e.g., a galaxy twice as far away will have twice as smooth residuals). Works to ~100 Mpc, but many corrections (e.g., types of stars, metallicity, gradients, etc.) are needed\n",
    "* __Brightest stars, luminosity functions (HII regions, globular clusters, planetary nebulae, etc.)__: other ways to measure distances that aren't nearly as good\n",
    "* __Type Ia SNe__: exploding white dwarfs, \"standardizable candles\", rare, but very bright.  Can be used to large distances"
   ]
  },
  {
   "cell_type": "markdown",
   "metadata": {},
   "source": [
    "### Uncertainties on $H_0$ as a function of time\n",
    "<img src=\"figures/riess2016_fig1.png\" width=400 height=400></img>"
   ]
  },
  {
   "cell_type": "markdown",
   "metadata": {},
   "source": [
    "### Hubble imaging of Type Ia SNe\n",
    "<img src=\"figures/riess2016_fig2.png\" width=600 height=600></img>"
   ]
  },
  {
   "cell_type": "markdown",
   "metadata": {},
   "source": [
    "### HST images showing Cepheids \n",
    "\n",
    "<img src=\"figures/riess2016_fig3.png\" width=600 height=600></img>"
   ]
  },
  {
   "cell_type": "markdown",
   "metadata": {},
   "source": [
    "### Cepheid Light Curves \n",
    "<img src=\"figures/riess2016_fig4.png\" width=600 height=600></img>"
   ]
  },
  {
   "cell_type": "markdown",
   "metadata": {},
   "source": [
    "### Photometry of Cehpeids in HST images \n",
    "\n",
    "<img src=\"figures/riess2016_fig5.png\" width=600 height=600></img>"
   ]
  },
  {
   "cell_type": "markdown",
   "metadata": {},
   "source": [
    "### Cepheid Period-Luminosity Relationships\n",
    "<img src=\"figures/riess2016_fig6.png\" width=600 height=600></img>"
   ]
  },
  {
   "cell_type": "markdown",
   "metadata": {},
   "source": [
    "### Model for the distance ladder and $H_0$\n",
    "\n",
    "\n",
    "\n",
    "(1) __\"Wesenheit\" magnitude__: $m_H^W = m_H - R(V-I)$\n",
    "\n",
    "* $H = F160W$, $V=F555W$, $I=F814W$, $R\\equiv\\ A_H / (A_V - A_I)$\n",
    "\n",
    "(2) __Distance modulus:__ $\\mu = 5 \\log(D) + 25 = m - M$\n",
    "\n",
    "* $D$ in Mpc\n",
    "\n",
    "(3) __Cepheid magnitude__: $m_{H,i,j}^W = (\\mu_{0, i} - \\mu_{0, N4258}) + {\\rm zp}_{W, {\\rm N4258}} + b_{W} \\log(P_{i,j}) + Z_W \\Delta \\log(O/H)_{i,j}$\n",
    "\n",
    "* magnitude of the $jth$ cepheid in the $ith$ galaxy\n",
    "* $\\mu_{0, i} - \\mu_{0, N4258}$: reddening free distances for hosts relative to NGC 4258\n",
    "* ${\\rm zp}_{W, {\\rm N4258}}$: intercept in the P-L relationship from fit to cepheids in N4258\n",
    "* $b_{W}$, $Z_W$: nuisance parameters that relate the period, metallicity, and luminosity\n",
    "\n",
    "(4) __SN Ia calibration magnitudes__: $m_{x,j}^0 = (\\mu_{0, i} - \\mu_{0, N4258}) + m_{x, {\\rm N4258}}^0$ \n",
    " * $m_{x,i}^0$ is the maximum-light apparent x-band brightness of a SN Ia in the $ith$ host galaxy at the time of B-band peak corrected to the fiducial color and luminosity  \n",
    " \n",
    " (5) __Hubble Constant__: $\\log H_0 = \\frac{(\\mu_{0, i} - \\mu_{0, N4258}) + 5a_x + 25}{5}$\n",
    " \n",
    " * $\\mu_{0, N4258}$ geometric distances to N4268\n",
    " * $a_x$ is the intercept in the SN Ia magnitude-redshift relation in the x-band\n",
    " \n",
    " \n",
    "#### Riess et al 2016 __optimize__ for best values\n",
    "\n",
    "#### The goal of this lab is use Bayesian modeling to sample the posterior"
   ]
  },
  {
   "cell_type": "markdown",
   "metadata": {},
   "source": [
    "### The distance to NGC 4258\n",
    "\n",
    "* D = 7.54$\\pm$0.17(random)$\\pm$0.10(systmatic) Mpc\n",
    "* $\\mu = 29.387 \\pm 0.0568$ mag\n",
    "\n",
    "<img src=\"figures/riess2016_fig7.png\" width=400 height=400></img>"
   ]
  },
  {
   "cell_type": "markdown",
   "metadata": {},
   "source": [
    "### The redshift-distance relationship for 600 SNe Ia\n",
    "\n",
    "\n",
    "<img src=\"figures/riess2016_fig8.png\" width=600 height=600></img>"
   ]
  },
  {
   "cell_type": "markdown",
   "metadata": {},
   "source": [
    "### The relative distances to galaxies from SNe Ia and Cepheids\n",
    "\n",
    "\n",
    "<img src=\"figures/riess2016_fig9.png\" width=600 height=600></img>"
   ]
  },
  {
   "cell_type": "markdown",
   "metadata": {},
   "source": [
    "### The distance ladder\n",
    "\n",
    "\n",
    "\n",
    "<img src=\"figures/riess2016_fig10.png\" width=600 height=600></img>"
   ]
  },
  {
   "cell_type": "markdown",
   "metadata": {},
   "source": [
    "### Comparison of H_0 values from different techniques\n",
    "\n",
    "\n",
    "\n",
    "<img src=\"figures/riess2016_fig11.png\" width=600 height=600></img>"
   ]
  },
  {
   "cell_type": "code",
   "execution_count": null,
   "metadata": {},
   "outputs": [],
   "source": []
  }
 ],
 "metadata": {
  "kernelspec": {
   "display_name": "Python 3",
   "language": "python",
   "name": "python3"
  },
  "language_info": {
   "codemirror_mode": {
    "name": "ipython",
    "version": 3
   },
   "file_extension": ".py",
   "mimetype": "text/x-python",
   "name": "python",
   "nbconvert_exporter": "python",
   "pygments_lexer": "ipython3",
   "version": "3.7.3"
  }
 },
 "nbformat": 4,
 "nbformat_minor": 2
}
