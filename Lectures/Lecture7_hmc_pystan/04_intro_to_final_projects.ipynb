{
 "cells": [
  {
   "cell_type": "markdown",
   "metadata": {},
   "source": [
    "# Final Project Logistics and Ideas\n",
    "\n",
    "**AY128/256 UC Berkeley**\n",
    "\n",
    "(4/1/2019)"
   ]
  },
  {
   "cell_type": "code",
   "execution_count": 1,
   "metadata": {},
   "outputs": [
    {
     "name": "stderr",
     "output_type": "stream",
     "text": [
      "ERROR:root:File `'../talktools.py'` not found.\n"
     ]
    }
   ],
   "source": [
    "%run ../talktools.py"
   ]
  },
  {
   "cell_type": "markdown",
   "metadata": {},
   "source": [
    "## Final Project \n",
    "\n",
    "* A self-designed project based on ideas learned in class\n",
    "* Can use similar techniques / science areas, or build off of what we've done\n",
    "* 1 person, 1 project -- can get help from others\n",
    "* We will provide suggestions for project ideas\n",
    "* OK to replicate something already in the literature\n",
    "* You'll have ~2 weeks after the end of lab 3"
   ]
  },
  {
   "cell_type": "markdown",
   "metadata": {},
   "source": [
    "## Final Project Assessment\n",
    "\n",
    "* 1 talk in the style of a standard American Astronomical Society (AAS) talk (5+2 min)\n",
    "* Asking questions during other people's talks (part of your participation grade too)\n",
    "* 1 final jupyter notebook write up (as you've done with labs)"
   ]
  },
  {
   "cell_type": "markdown",
   "metadata": {},
   "source": [
    "## Final Project Timeline\n",
    "\n",
    "* On or before __Monday 4/15__: final project proposals due to instructors via Piazza\n",
    "* On __Monday 4/29__: all talks will be given during lecture to entire class -- attendance mandatory\n",
    "* On __Friday 5/3 by 4pm__: final project notebooks due to instuctors via Piazza"
   ]
  },
  {
   "cell_type": "markdown",
   "metadata": {},
   "source": [
    "## Final project scope\n",
    "\n",
    "* should be doable on ~2 week timescale\n",
    "* needs to be non-trivial, but also managable (i.e., you will want to complete it)\n",
    "* needs to have clearly defined goals, astrophysical questions to answer"
   ]
  },
  {
   "cell_type": "markdown",
   "metadata": {},
   "source": [
    "## Final project examples\n",
    "\n",
    "* __DW needs to fill in before lecture__"
   ]
  },
  {
   "cell_type": "code",
   "execution_count": null,
   "metadata": {},
   "outputs": [],
   "source": []
  }
 ],
 "metadata": {
  "kernelspec": {
   "display_name": "Python 3",
   "language": "python",
   "name": "python3"
  },
  "language_info": {
   "codemirror_mode": {
    "name": "ipython",
    "version": 3
   },
   "file_extension": ".py",
   "mimetype": "text/x-python",
   "name": "python",
   "nbconvert_exporter": "python",
   "pygments_lexer": "ipython3",
   "version": "3.7.3"
  }
 },
 "nbformat": 4,
 "nbformat_minor": 2
}
