{
 "cells": [
  {
   "cell_type": "markdown",
   "metadata": {},
   "source": [
    "# Introduction to Stan, Hamiltonian Monte Carlo, & No-U-Turn Sampling\n",
    "\n",
    "**AY128/256 UC Berkeley**\n",
    "\n",
    "(4/1/2019)\n",
    "\n",
    "## Introduction to\n",
    "* Stan\n",
    "* Hamiltonian Monte Carlo \n",
    "* No-U-Turn Monte Carlo (NUTS)\n",
    "\n",
    "### Useful link:\n",
    "https://chi-feng.github.io/mcmc-demo/"
   ]
  },
  {
   "cell_type": "code",
   "execution_count": null,
   "metadata": {},
   "outputs": [],
   "source": [
    "%run ../talktools.py"
   ]
  },
  {
   "cell_type": "markdown",
   "metadata": {},
   "source": [
    "## What is Stan?\n",
    "* Named after Stanislaw Ulam (1909 - 1984)\n",
    "* co-invented Monte Carlo sampling methods\n",
    "* also co-inventor of the hydrogen bomb\n",
    "* it's a probabilistic programming language\n",
    "* performs very efficient statistical infernece, among other things (e.g., sampling, optimization)\n",
    "* developed in the statistics community (i.e., by people who spend lots of time thinking about sampling, etc.)\n",
    "* written in C++, front ends in R, python, matlab, etc."
   ]
  },
  {
   "cell_type": "markdown",
   "metadata": {},
   "source": [
    "## Why are we using Stan?\n",
    "* sampling in high dimensions is hard\n",
    "* most samplers (e.g., M-H, emcee) that are good in low dimensions are really bad in high dimensions, esp. if there correlations\n",
    "* really bad means they don't converage in finite amount of time\n",
    "* or worse, they appear to converge even through they haven't\n",
    "* Example: sampling from highly covariant 250-d normal distribution :\n",
    "<img src=\"figures/mh_nuts_250d.png\"></img>\n",
    "\n",
    "\n",
    "* M-H & Gibbs (10$^6$ samples, thinned to 1000)\n",
    "* NUTS: 1000 samples\n",
    "* Stan has many samplers under the hood, but the one we're interested in is called NUTS\n",
    "* NUTS = No-U-Turn Sampler, which is a class of Hamiltonian Monte Carlo (HMC) samplers\n",
    "* NUTS and HMC are very efficient in high dimensions"
   ]
  },
  {
   "cell_type": "markdown",
   "metadata": {},
   "source": [
    "# What is HMC?\n",
    "\n",
    "* Suppose we have a N-d Gaussian, where one of the dimensions in log-probability looks like this:\n",
    "<img src=\"figures/gauss_bowl.png\"><img>\n",
    "* Imagine the following physics exercise: flick a particle on the surface (frictionless, of course) and watch it move recording its position\n",
    "* Sampling the particles position is like taking samples in log-probability space\n",
    "* repeat with different particle\n",
    "* \"Hamiltonian\" because we can write down the Hamiltonian (think physics) for each particle's motion\n",
    "* Advantages: many fewer samples needed to map our target distribution than other samplers\n",
    "* Disadvntages: many more calculations under the hood, need to compute gradients (i.e., where to go next), needs to know how many steps to run for: can turn around and re-explore the same space or can sampler doesn't move enough"
   ]
  },
  {
   "cell_type": "markdown",
   "metadata": {},
   "source": [
    "# What is NUTS?\n",
    "\n",
    "* As name suggests, NUTS is a type of HMC sampler that prevents the particle from taking a \"U-Turn\"\n",
    "* \"flick\" a particule along the probability surface, and NUTS adaptively tries to figure out where it will turn around, stops it there, and sends it in a new direction\n",
    "* it does this by simulating multiple paths for the particle\n",
    "* It's costly, but not as costly as simulating a full u-turn and starting again\n",
    "* NUTS works natively under the hood in Stan -- so you don't have to understand it to use it\n",
    "* But if you're thinking of doing research or going into industry, good to have a grasp of theory behind sampling"
   ]
  },
  {
   "cell_type": "code",
   "execution_count": null,
   "metadata": {},
   "outputs": [],
   "source": []
  }
 ],
 "metadata": {
  "kernelspec": {
   "display_name": "Python 3",
   "language": "python",
   "name": "python3"
  },
  "language_info": {
   "codemirror_mode": {
    "name": "ipython",
    "version": 3
   },
   "file_extension": ".py",
   "mimetype": "text/x-python",
   "name": "python",
   "nbconvert_exporter": "python",
   "pygments_lexer": "ipython3",
   "version": "3.7.3"
  }
 },
 "nbformat": 4,
 "nbformat_minor": 2
}
