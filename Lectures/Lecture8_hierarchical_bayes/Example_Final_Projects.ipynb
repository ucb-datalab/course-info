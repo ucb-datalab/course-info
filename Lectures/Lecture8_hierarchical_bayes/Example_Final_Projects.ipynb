{
 "cells": [
  {
   "cell_type": "code",
   "execution_count": 1,
   "metadata": {},
   "outputs": [
    {
     "name": "stderr",
     "output_type": "stream",
     "text": [
      "ERROR:root:File `'../talktools.py'` not found.\n"
     ]
    }
   ],
   "source": [
    "%run ../talktools.py"
   ]
  },
  {
   "cell_type": "markdown",
   "metadata": {},
   "source": [
    "# Final Project Examples\n",
    "\n",
    "**AY128/256 UC Berkeley**\n",
    "\n",
    "(4/8/2019)"
   ]
  },
  {
   "cell_type": "markdown",
   "metadata": {},
   "source": [
    "## Start with Questions\n",
    "\n",
    "* What is the astrophysical motivation for this problem?\n",
    "\n",
    "* What data (or simulation) sources will I use?  Do I have access to all the relevant information?\n",
    "\n",
    "* What is the main goal of this project?  \n",
    "\n",
    "* What is a managable scope/goal of this project?\n",
    "\n",
    "* What is a reach goal for this project?\n",
    "\n",
    "* What techniques might I use?\n",
    "\n",
    "* What do I want to learn (astrophysical and/or technical)?\n",
    "\n",
    "* Can I accomplish this in ~2 weeks?"
   ]
  },
  {
   "cell_type": "markdown",
   "metadata": {},
   "source": [
    "## Skim a paper\n",
    "\n",
    "* Read abstract, intro, and conclusions sections\n",
    "* Look at figures + captions\n",
    "* Skim methodology section\n",
    "* Skim discussion section\n",
    "* Is this project for me? (if not, find a new paper and repeat)"
   ]
  },
  {
   "cell_type": "markdown",
   "metadata": {},
   "source": [
    "## Prototype your approach\n",
    "\n",
    "* Identify path to acquiring data (download a table, ADQL, SQL, etc.).  Is more than one type of data needed?\n",
    "* Acquire some data\n",
    "* Clean data, if necessary\n",
    "* Do some preliminary (\"quick and dirty\") analysis.  E.g., make some hard cuts by hand, fit a model to a small subset of data\n",
    "* Does it roughly work?  How long did it take?  Do I need to try a different approach?\n",
    "* Evaluate success -- is progess looking promising (e.g., posterior predicive checks)? "
   ]
  },
  {
   "cell_type": "markdown",
   "metadata": {},
   "source": [
    "## End-to-End Tests\n",
    "* Try to go end-to-end with rough analysis techniques and a subset of the data.\n",
    "* What did it take to go end-to-end?  What steps are easy/hard/time consuming?\n",
    "* Evaluate success -- is progess looking promising (e.g., posterior predicive checks)? "
   ]
  },
  {
   "cell_type": "markdown",
   "metadata": {},
   "source": [
    "## Refine\n",
    "* Refine analysis techniques, data cleaning, etc. as needed\n",
    "* Example: from hard cuts on data to cluster algorithim\n",
    "* Example: instead of regression try neutral net\n",
    "* Always evaluate what is to be gained by refining techniques, data cuts/classification, etc.\n",
    "* go end-to-end with test sample for refined technique\n",
    "* Evaluate success -- is progess looking promising?"
   ]
  },
  {
   "cell_type": "markdown",
   "metadata": {},
   "source": [
    "## Production\n",
    "* Mostly happy with your prototyping?  \n",
    "* Time to run on the entire dataset\n",
    "* First challenge: get it running -- enough memory, CPU power, time? (hopefully not an issue for your final project)\n",
    "* Second challenge: do the results look reasonable (e.g., corner plots, trace plots, posterior predictive checks)?\n",
    "* What needs to be refined -- new priors? add/remove model parameters?"
   ]
  },
  {
   "cell_type": "markdown",
   "metadata": {},
   "source": [
    "## Communication\n",
    "* Make plots that summarize the story\n",
    "* Example: raw data to currated data\n",
    "* Example: Model + Uncertainties on top of data\n",
    "* Example: Trace plots? Corner plots?  (Not necessarily great for talks)\n",
    "* Write up notebook/paper describing plots\n",
    "* More on talks later."
   ]
  },
  {
   "cell_type": "markdown",
   "metadata": {},
   "source": [
    "## Example 1:\n",
    "### Proper motions and dynamics of the Milky Way globular cluster system from Gaia DR2\n",
    "http://adsabs.harvard.edu/abs/2019MNRAS.484.2832V\n",
    "\n",
    "* __Project__: Use Gaia PMs and literature distances and radial velocities to model dynamics of MW globular clusters\n",
    "* __Astrophysical Questions__: what orbits did they trace out?  Are there differences between metal-rich and metal-poor globulars?  What enclosed mass of the Milky Way do the globular clusters trace?\n",
    "* __Possible Goals__: Using published velocities, model orbit history (e.g., using equations in above paper, orbital fitting package like Galpy)\n",
    "* __First steps__: Fit the orbit of a single cluster\n",
    "* __Next steps__: Fit orbit of many (all?) clusters\n",
    "* __Analysis__: are there trends with distance, population characteristics (e.g., metal-poor vs. metal-rich), etc.?\n",
    "* __Next steps__: Measure the dark matter mass profile of the Milky Way"
   ]
  },
  {
   "cell_type": "markdown",
   "metadata": {},
   "source": [
    "## Example 2:\n",
    "### Revisiting hypervelocity stars after Gaia DR2\n",
    "http://adsabs.harvard.edu/abs/2018MNRAS.479.2789B\n",
    "\n",
    "* __Project__: Use Gaia DR2 and literature velocities to investigate hypervelocity stars (stars that could escape the Milky Way entirely) \n",
    "* __Astrophysical Questions__: Are there really hypervelocity stars? What are their orbits? What kinds of stars are they? What are their origins (e.g., did they get kicked out by the black hole in the center of the MW or something else)?\n",
    "* __Possible Goals__: Using published data, model orbit history (e.g., using equations in above paper, orbital fitting package like Galpy)\n",
    "* __First steps__: Query hypervelocity star candidates, fit orbit model to single/small set of stars\n",
    "* __Next steps__: Fit all hypervelocity star candidates?  Do yours agree with literature claims?\n",
    "* __Analysis__: are any hypervelocity stars consistent with being ejected by central black hole?\n",
    "* __Next steps__: Estimate how many hypervelocity stars we might see in Gaia DR5, given what you find in DR2"
   ]
  },
  {
   "cell_type": "markdown",
   "metadata": {},
   "source": [
    "## Example 3:\n",
    "### Spectrophotometric parallaxes with linear models: Accurate distances for luminous red-giant stars\n",
    "https://arxiv.org/abs/1810.09468\n",
    "\n",
    "* __Project__: Use APOGEE+Gaia+2MASS+WISE to train a data driven model to measure accurate distances to stars without parallax information \n",
    "* __Astrophysical Questions__: Gaia gives good parallaxes within ~1 kpc, but Milky Way extends to ~100 kpc.  Need to figure out ways to get better parallaxes to more distant stars to learn about structure of  \n",
    "* __Possible Goals__: Predict distances to luminous stars across the Milky Way.  This paper uses a exponentiated linear model, you could try to do it with a neural net (might even lead to a paper of your own).\n",
    "* __First steps__: Assemble data set of APOGEE+Gaia+2MASS+WISE stars for training and validation. Following the paper (or using a neural net) try to predict distances for stars with known parallaxes\n",
    "* __Next steps__: Once you're happy with validation steps, expand to more distant stars.  Make maps of the Milky Way.\n",
    "* __Analysis__: How do your estimates compare against Hogg et al.?  To what parallax are your results reliable?\n",
    "* __Next steps__: If a netural net perfoms better, how far out can you reliably map the Milky Way?"
   ]
  }
 ],
 "metadata": {
  "kernelspec": {
   "display_name": "Python 3",
   "language": "python",
   "name": "python3"
  },
  "language_info": {
   "codemirror_mode": {
    "name": "ipython",
    "version": 3
   },
   "file_extension": ".py",
   "mimetype": "text/x-python",
   "name": "python",
   "nbconvert_exporter": "python",
   "pygments_lexer": "ipython3",
   "version": "3.7.3"
  }
 },
 "nbformat": 4,
 "nbformat_minor": 2
}
